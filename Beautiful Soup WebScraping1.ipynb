{
 "cells": [
  {
   "cell_type": "code",
   "execution_count": 1,
   "metadata": {},
   "outputs": [],
   "source": [
    "from urllib.request import urlopen as uReq\n",
    "from bs4 import BeautifulSoup as soup"
   ]
  },
  {
   "cell_type": "code",
   "execution_count": 2,
   "metadata": {},
   "outputs": [
    {
     "data": {
      "text/plain": [
       "<h1 class=\"page-title-text\">Video Cards &amp; Video Devices</h1>"
      ]
     },
     "execution_count": 2,
     "metadata": {},
     "output_type": "execute_result"
    }
   ],
   "source": [
    "#Beautiful soup parses the HTML text and urllib grabs the page\n",
    "\n",
    "my_url = 'https://www.newegg.com/Video-Cards-Video-Devices/Category/ID-38'\n",
    "\n",
    "#opening up connection, grabbing page\n",
    "uClient = uReq(my_url)\n",
    "page_html = uClient.read()\n",
    "uClient.close()\n",
    "page_soup = soup(page_html, \"html.parser\")\n",
    "page_soup.h1"
   ]
  },
  {
   "cell_type": "code",
   "execution_count": 3,
   "metadata": {},
   "outputs": [
    {
     "data": {
      "text/plain": [
       "<p class=\"item-promo\"><i class=\"item-promo-icon\"></i>OUT OF STOCK</p>"
      ]
     },
     "execution_count": 3,
     "metadata": {},
     "output_type": "execute_result"
    }
   ],
   "source": [
    "page_soup.p"
   ]
  },
  {
   "cell_type": "code",
   "execution_count": 4,
   "metadata": {},
   "outputs": [
    {
     "data": {
      "text/plain": [
       "<span class=\"hid-text\">Search</span>"
      ]
     },
     "execution_count": 4,
     "metadata": {},
     "output_type": "execute_result"
    }
   ],
   "source": [
    "#traversing the page under different tags\n",
    "page_soup.body.span"
   ]
  },
  {
   "cell_type": "code",
   "execution_count": 5,
   "metadata": {},
   "outputs": [],
   "source": [
    "#finding all divisions that have the item-container class\n",
    "containers = page_soup.findAll(\"div\", {\"class\":\"item-container\"})"
   ]
  },
  {
   "cell_type": "code",
   "execution_count": 6,
   "metadata": {},
   "outputs": [
    {
     "data": {
      "text/plain": [
       "12"
      ]
     },
     "execution_count": 6,
     "metadata": {},
     "output_type": "execute_result"
    }
   ],
   "source": [
    "#tells how many objects it found, how many graphics cards on the page in this case\n",
    "len(containers)"
   ]
  },
  {
   "cell_type": "code",
   "execution_count": 7,
   "metadata": {},
   "outputs": [
    {
     "data": {
      "text/plain": [
       "<div class=\"item-container\"><a class=\"item-img\" href=\"https://www.newegg.com/msi-geforce-gt-710-gt-710-1gd3h-lp/p/N82E16814127931?Item=N82E16814127931\"><img alt=\"MSI GeForce GT 710 DirectX 12 GT 710 1GD3H LP 1GB 64-Bit DDR3 PCI Express 2.0 x16 HDCP Ready Low Profile Video Card\" src=\"https://c1.neweggimages.com/ProductImageCompressAll300/14-127-931-01.jpg\" title=\"MSI GeForce GT 710 DirectX 12 GT 710 1GD3H LP 1GB 64-Bit DDR3 PCI Express 2.0 x16 HDCP Ready Low Profile Video Card\"/></a><div class=\"item-info\"><div class=\"item-branding\"><a class=\"item-brand\" href=\"https://www.newegg.com/MSI/BrandStore/ID-1312\"><img alt=\"MSI\" src=\"https://c1.neweggimages.com/Brandimage_70x28/Brand1312.gif\" title=\"MSI\"/></a><a class=\"item-rating\" href=\"https://www.newegg.com/msi-geforce-gt-710-gt-710-1gd3h-lp/p/N82E16814127931?IsFeedbackTab=true&amp;Item=N82E16814127931#scrollFullInfo\" title=\"Rating + 4\"><i class=\"rating rating-4\"></i><span class=\"item-rating-num\">(32)</span></a></div><a class=\"item-title\" href=\"https://www.newegg.com/msi-geforce-gt-710-gt-710-1gd3h-lp/p/N82E16814127931?Item=N82E16814127931\" title=\"View Details\">MSI GeForce GT 710 DirectX 12 GT 710 1GD3H LP Video Card</a><ul class=\"item-features\"><li><strong>Core Clock:</strong> 954 MHz</li><li><strong>Max Resolution:</strong> 4096 x 2160</li><li><strong>DVI:</strong> 1 x DL-DVI-D</li><li><strong>HDMI:</strong> 1 x HDMI</li><li><strong>Model #: </strong>GT 710 1GD3H LP</li><li><strong>Item #: </strong>N82E16814127931</li><li><strong>Return Policy: </strong><a href=\"https://kb.newegg.com/Article/Index/12/3?id=1167#44\" target=\"_blank\" title=\"Standard Return Policy(New Window)\">Standard Return Policy</a></li></ul></div><div class=\"item-action\"><ul class=\"price\"><li class=\"price-was\"><span class=\"price-was-data\">$59.99</span></li><li class=\"price-map\"> </li><li class=\"price-current\"><span class=\"price-current-label\"></span>$<strong>58</strong><sup>.99</sup> <a class=\"price-current-num\" href=\"https://www.newegg.com/msi-geforce-gt-710-gt-710-1gd3h-lp/p/N82E16814127931?Item=N82E16814127931&amp;buyingoptions=New\">(13 Offers)</a><span class=\"price-current-range\"><abbr title=\"to\">–</abbr></span></li><li class=\"price-save\"></li><li class=\"price-ship\">$3.99 Shipping</li></ul><div class=\"item-operate hidden-action-button\"><div class=\"item-button-area\"><button class=\"btn btn-mini\" title=\"View Details \">View Details <i class=\"fas fa-caret-right\"></i></button></div><div class=\"item-compare-box\"><label class=\"form-checkbox\"><input autocomplete=\"off\" type=\"checkbox\"/><span class=\"form-checkbox-title\">Compare</span></label></div></div></div><div class=\"item-stock\" id=\"stock_14-127-931\"></div></div>"
      ]
     },
     "execution_count": 7,
     "metadata": {},
     "output_type": "execute_result"
    }
   ],
   "source": [
    "containers[0]"
   ]
  },
  {
   "cell_type": "code",
   "execution_count": 8,
   "metadata": {},
   "outputs": [],
   "source": [
    "container = containers[0]"
   ]
  },
  {
   "cell_type": "code",
   "execution_count": 9,
   "metadata": {},
   "outputs": [
    {
     "data": {
      "text/plain": [
       "<a class=\"item-img\" href=\"https://www.newegg.com/msi-geforce-gt-710-gt-710-1gd3h-lp/p/N82E16814127931?Item=N82E16814127931\"><img alt=\"MSI GeForce GT 710 DirectX 12 GT 710 1GD3H LP 1GB 64-Bit DDR3 PCI Express 2.0 x16 HDCP Ready Low Profile Video Card\" src=\"https://c1.neweggimages.com/ProductImageCompressAll300/14-127-931-01.jpg\" title=\"MSI GeForce GT 710 DirectX 12 GT 710 1GD3H LP 1GB 64-Bit DDR3 PCI Express 2.0 x16 HDCP Ready Low Profile Video Card\"/></a>"
      ]
     },
     "execution_count": 9,
     "metadata": {},
     "output_type": "execute_result"
    }
   ],
   "source": [
    "# 'a' class within container, which is within the item-containers class \n",
    "container.a"
   ]
  },
  {
   "cell_type": "code",
   "execution_count": 10,
   "metadata": {},
   "outputs": [
    {
     "data": {
      "text/plain": [
       "<div class=\"item-info\"><div class=\"item-branding\"><a class=\"item-brand\" href=\"https://www.newegg.com/MSI/BrandStore/ID-1312\"><img alt=\"MSI\" src=\"https://c1.neweggimages.com/Brandimage_70x28/Brand1312.gif\" title=\"MSI\"/></a><a class=\"item-rating\" href=\"https://www.newegg.com/msi-geforce-gt-710-gt-710-1gd3h-lp/p/N82E16814127931?IsFeedbackTab=true&amp;Item=N82E16814127931#scrollFullInfo\" title=\"Rating + 4\"><i class=\"rating rating-4\"></i><span class=\"item-rating-num\">(32)</span></a></div><a class=\"item-title\" href=\"https://www.newegg.com/msi-geforce-gt-710-gt-710-1gd3h-lp/p/N82E16814127931?Item=N82E16814127931\" title=\"View Details\">MSI GeForce GT 710 DirectX 12 GT 710 1GD3H LP Video Card</a><ul class=\"item-features\"><li><strong>Core Clock:</strong> 954 MHz</li><li><strong>Max Resolution:</strong> 4096 x 2160</li><li><strong>DVI:</strong> 1 x DL-DVI-D</li><li><strong>HDMI:</strong> 1 x HDMI</li><li><strong>Model #: </strong>GT 710 1GD3H LP</li><li><strong>Item #: </strong>N82E16814127931</li><li><strong>Return Policy: </strong><a href=\"https://kb.newegg.com/Article/Index/12/3?id=1167#44\" target=\"_blank\" title=\"Standard Return Policy(New Window)\">Standard Return Policy</a></li></ul></div>"
      ]
     },
     "execution_count": 10,
     "metadata": {},
     "output_type": "execute_result"
    }
   ],
   "source": [
    "container.div"
   ]
  },
  {
   "cell_type": "code",
   "execution_count": 11,
   "metadata": {},
   "outputs": [
    {
     "data": {
      "text/plain": [
       "<a class=\"item-brand\" href=\"https://www.newegg.com/MSI/BrandStore/ID-1312\"><img alt=\"MSI\" src=\"https://c1.neweggimages.com/Brandimage_70x28/Brand1312.gif\" title=\"MSI\"/></a>"
      ]
     },
     "execution_count": 11,
     "metadata": {},
     "output_type": "execute_result"
    }
   ],
   "source": [
    "#gives the item brand \n",
    "container.div.a"
   ]
  },
  {
   "cell_type": "code",
   "execution_count": 12,
   "metadata": {},
   "outputs": [
    {
     "data": {
      "text/plain": [
       "<img alt=\"MSI\" src=\"https://c1.neweggimages.com/Brandimage_70x28/Brand1312.gif\" title=\"MSI\"/>"
      ]
     },
     "execution_count": 12,
     "metadata": {},
     "output_type": "execute_result"
    }
   ],
   "source": [
    "container.div.a.img"
   ]
  },
  {
   "cell_type": "code",
   "execution_count": 13,
   "metadata": {},
   "outputs": [
    {
     "data": {
      "text/plain": [
       "'MSI'"
      ]
     },
     "execution_count": 13,
     "metadata": {},
     "output_type": "execute_result"
    }
   ],
   "source": [
    "#an attribute of the thing you are grabbing, example, the title of it \n",
    "container.div.a.img[\"title\"]"
   ]
  },
  {
   "cell_type": "code",
   "execution_count": 14,
   "metadata": {},
   "outputs": [],
   "source": [
    "#looping through all\n",
    "for container in containers:\n",
    "    brand = container.div.a.img[\"title\"]"
   ]
  },
  {
   "cell_type": "code",
   "execution_count": 15,
   "metadata": {},
   "outputs": [],
   "source": [
    "title_container = container.findAll(\"a\", {\"class\":\"item-title\"})"
   ]
  },
  {
   "cell_type": "code",
   "execution_count": 16,
   "metadata": {},
   "outputs": [
    {
     "data": {
      "text/plain": [
       "[<a class=\"item-title\" href=\"https://www.newegg.com/evga-geforce-rtx-3070-08g-p5-3751-kr/p/N82E16814487528?Item=N82E16814487528\" title=\"View Details\">EVGA GeForce RTX 3070 XC3 BLACK GAMING Video Card, 08G-P5-3751-KR, 8GB GDDR6, iCX3 Cooling, ARGB LED</a>]"
      ]
     },
     "execution_count": 16,
     "metadata": {},
     "output_type": "execute_result"
    }
   ],
   "source": [
    "title_container"
   ]
  },
  {
   "cell_type": "code",
   "execution_count": 17,
   "metadata": {},
   "outputs": [],
   "source": [
    "title_container[0].text\n",
    "\n",
    "shipping_container = container.findAll(\"li\", {\"class\":\"price-ship\"})"
   ]
  },
  {
   "cell_type": "code",
   "execution_count": 39,
   "metadata": {},
   "outputs": [
    {
     "name": "stdout",
     "output_type": "stream",
     "text": [
      "brand:MSI\n",
      "product_name:EVGA GeForce RTX 3070 XC3 BLACK GAMING Video Card, 08G-P5-3751-KR, 8GB GDDR6, iCX3 Cooling, ARGB LED\n",
      "shipping:$3.99 Shipping\n",
      "brand:GIGABYTE\n",
      "product_name:EVGA GeForce RTX 3070 XC3 BLACK GAMING Video Card, 08G-P5-3751-KR, 8GB GDDR6, iCX3 Cooling, ARGB LED\n",
      "shipping:$9.99 Shipping\n",
      "brand:MSI\n",
      "product_name:EVGA GeForce RTX 3070 XC3 BLACK GAMING Video Card, 08G-P5-3751-KR, 8GB GDDR6, iCX3 Cooling, ARGB LED\n",
      "shipping:$9.99 Shipping\n",
      "brand:Sapphire Tech\n",
      "product_name:EVGA GeForce RTX 3070 XC3 BLACK GAMING Video Card, 08G-P5-3751-KR, 8GB GDDR6, iCX3 Cooling, ARGB LED\n",
      "shipping:\n",
      "brand:ASUS\n",
      "product_name:EVGA GeForce RTX 3070 XC3 BLACK GAMING Video Card, 08G-P5-3751-KR, 8GB GDDR6, iCX3 Cooling, ARGB LED\n",
      "shipping:$6.99 Shipping\n",
      "brand:EVGA\n",
      "product_name:EVGA GeForce RTX 3070 XC3 BLACK GAMING Video Card, 08G-P5-3751-KR, 8GB GDDR6, iCX3 Cooling, ARGB LED\n",
      "shipping:\n",
      "brand:EVGA\n",
      "product_name:EVGA GeForce RTX 3070 XC3 BLACK GAMING Video Card, 08G-P5-3751-KR, 8GB GDDR6, iCX3 Cooling, ARGB LED\n",
      "shipping:$9.99 Shipping\n",
      "brand:PowerColor\n",
      "product_name:EVGA GeForce RTX 3070 XC3 BLACK GAMING Video Card, 08G-P5-3751-KR, 8GB GDDR6, iCX3 Cooling, ARGB LED\n",
      "shipping:\n",
      "brand:ASUS\n",
      "product_name:EVGA GeForce RTX 3070 XC3 BLACK GAMING Video Card, 08G-P5-3751-KR, 8GB GDDR6, iCX3 Cooling, ARGB LED\n",
      "shipping:\n",
      "brand:MSI\n",
      "product_name:EVGA GeForce RTX 3070 XC3 BLACK GAMING Video Card, 08G-P5-3751-KR, 8GB GDDR6, iCX3 Cooling, ARGB LED\n",
      "shipping:$9.99 Shipping\n",
      "brand:MSI\n",
      "product_name:EVGA GeForce RTX 3070 XC3 BLACK GAMING Video Card, 08G-P5-3751-KR, 8GB GDDR6, iCX3 Cooling, ARGB LED\n",
      "shipping:$8.99 Shipping\n",
      "brand:EVGA\n",
      "product_name:EVGA GeForce RTX 3070 XC3 BLACK GAMING Video Card, 08G-P5-3751-KR, 8GB GDDR6, iCX3 Cooling, ARGB LED\n",
      "shipping:$9.99 Shipping\n"
     ]
    }
   ],
   "source": [
    "#creating, opening and writing a new file\n",
    "filename = \"products.csv\"\n",
    "f = open(filename, \"w\")\n",
    "    \n",
    "headers = \"brand, product_name, shipping\\n\"\n",
    "f.write(headers)\n",
    "\n",
    "#looping through all\n",
    "for container in containers:\n",
    "    brand = container.div.a.img[\"title\"]\n",
    "    title_container[0].text\n",
    "    product_name = title_container[0].text\n",
    "    shipping_container = container.findAll(\"li\", {\"class\":\"price-ship\"})\n",
    "    shipping = shipping_container[0].text.strip()\n",
    "    \n",
    "    print(\"brand:\" + brand)\n",
    "    print(\"product_name:\" + product_name)\n",
    "    print(\"shipping:\" + shipping)\n",
    "    \n",
    "    #have to replace the commas in the product name so it doesn't create extra columns\n",
    "    f.write(brand + \",\" + product_name.replace(\",\" , \"|\") + \",\" + shipping + \"\\n\")\n",
    "    \n",
    "f.close()"
   ]
  },
  {
   "cell_type": "code",
   "execution_count": 38,
   "metadata": {},
   "outputs": [
    {
     "data": {
      "text/plain": [
       "'$9.99 Shipping'"
      ]
     },
     "execution_count": 38,
     "metadata": {},
     "output_type": "execute_result"
    }
   ],
   "source": [
    "shipping"
   ]
  },
  {
   "cell_type": "code",
   "execution_count": null,
   "metadata": {},
   "outputs": [],
   "source": []
  },
  {
   "cell_type": "code",
   "execution_count": 27,
   "metadata": {},
   "outputs": [
    {
     "data": {
      "text/plain": [
       "'EVGA GeForce RTX 3070 XC3 BLACK GAMING Video Card, 08G-P5-3751-KR, 8GB GDDR6, iCX3 Cooling, ARGB LED'"
      ]
     },
     "execution_count": 27,
     "metadata": {},
     "output_type": "execute_result"
    }
   ],
   "source": [
    "product_name"
   ]
  },
  {
   "cell_type": "code",
   "execution_count": null,
   "metadata": {},
   "outputs": [],
   "source": []
  }
 ],
 "metadata": {
  "kernelspec": {
   "display_name": "Python 3",
   "language": "python",
   "name": "python3"
  },
  "language_info": {
   "codemirror_mode": {
    "name": "ipython",
    "version": 3
   },
   "file_extension": ".py",
   "mimetype": "text/x-python",
   "name": "python",
   "nbconvert_exporter": "python",
   "pygments_lexer": "ipython3",
   "version": "3.7.4"
  }
 },
 "nbformat": 4,
 "nbformat_minor": 5
}
